{
 "cells": [
  {
   "cell_type": "markdown",
   "id": "ac5b6a07-76c1-49c3-baa5-9eb94c734ee7",
   "metadata": {},
   "source": [
    "# Breast Cancer Wisconsin (Diagnostic) Data Set"
   ]
  },
  {
   "cell_type": "markdown",
   "id": "eb878a04-54fe-4ec6-ad29-b2a927e81d7c",
   "metadata": {},
   "source": [
    "## Introduction"
   ]
  },
  {
   "cell_type": "markdown",
   "id": "f4097725-28fa-47f8-8401-317615bcab5a",
   "metadata": {},
   "source": []
  },
  {
   "cell_type": "markdown",
   "id": "88d11287-6c59-457c-9b62-39db1cfd475c",
   "metadata": {},
   "source": [
    "## Data Description"
   ]
  },
  {
   "cell_type": "markdown",
   "id": "8dd91ced-7134-4972-a3bb-e59b3b26abe1",
   "metadata": {},
   "source": []
  },
  {
   "cell_type": "markdown",
   "id": "ed046b6c-2478-441e-ae26-0f0591e1337d",
   "metadata": {},
   "source": [
    "### Exploratory Data Analysis"
   ]
  },
  {
   "cell_type": "markdown",
   "id": "6680b50d-ba3c-495f-b729-a2d8838460e0",
   "metadata": {},
   "source": []
  },
  {
   "cell_type": "markdown",
   "id": "b8456d5c-2e16-493d-aaae-8c8f3790b68e",
   "metadata": {},
   "source": [
    "### Data Analysis"
   ]
  },
  {
   "cell_type": "markdown",
   "id": "1e56b782-d128-4b3b-8d84-22597d7ec60f",
   "metadata": {},
   "source": []
  },
  {
   "cell_type": "markdown",
   "id": "acd0ae95-5fab-4092-9254-9ae986d7b924",
   "metadata": {},
   "source": [
    "## Prediction"
   ]
  },
  {
   "cell_type": "markdown",
   "id": "9f3bd901-4306-4e86-b346-9d19f200ed71",
   "metadata": {},
   "source": []
  },
  {
   "cell_type": "markdown",
   "id": "852c35e8-4aa0-4406-be3d-11505f6a7f1e",
   "metadata": {},
   "source": [
    "### Logistic Regression "
   ]
  },
  {
   "cell_type": "markdown",
   "id": "10a350f8-2f53-46b7-abd1-285bf2567a6a",
   "metadata": {},
   "source": []
  },
  {
   "cell_type": "markdown",
   "id": "51645001-45b7-4d1a-a1a8-753734902b3d",
   "metadata": {},
   "source": [
    "### Decision Tree"
   ]
  },
  {
   "cell_type": "markdown",
   "id": "51dff0b2-142a-4e8a-87ba-327f524d7bfc",
   "metadata": {},
   "source": []
  },
  {
   "cell_type": "markdown",
   "id": "3b575396-b2dc-4da2-8f27-3ed3e3fb089a",
   "metadata": {},
   "source": [
    "### Final Mode"
   ]
  },
  {
   "cell_type": "markdown",
   "id": "4f1f8fce-ba3b-4d4d-b572-bfb45ba9c392",
   "metadata": {},
   "source": [
    "## Assess significance of features using LR"
   ]
  },
  {
   "cell_type": "markdown",
   "id": "7f362113-60e4-4065-b128-4772d05cc35d",
   "metadata": {},
   "source": []
  },
  {
   "cell_type": "markdown",
   "id": "821da7ad-e9af-4cb1-81a9-a63e232dd2be",
   "metadata": {},
   "source": [
    "## Hypothesis testing"
   ]
  },
  {
   "cell_type": "markdown",
   "id": "ef63e549-29b5-4ab3-b2a4-465bc0122229",
   "metadata": {},
   "source": []
  },
  {
   "cell_type": "markdown",
   "id": "2f4132f1-b137-4389-8a3a-53e28294c7e7",
   "metadata": {},
   "source": [
    "## Discussion & Conclusion"
   ]
  },
  {
   "cell_type": "markdown",
   "id": "ba422a1a-425b-4c4b-94b4-ad1ef4fec40c",
   "metadata": {},
   "source": []
  },
  {
   "cell_type": "markdown",
   "id": "1c4c4a68-aa7b-4103-9709-16066bfb1744",
   "metadata": {},
   "source": [
    "## Author Contributions"
   ]
  },
  {
   "cell_type": "markdown",
   "id": "01884d69-df65-4ae3-b228-2689f3516e6d",
   "metadata": {},
   "source": []
  }
 ],
 "metadata": {
  "kernelspec": {
   "display_name": "hw07",
   "language": "python",
   "name": "hw07"
  },
  "language_info": {
   "codemirror_mode": {
    "name": "ipython",
    "version": 3
   },
   "file_extension": ".py",
   "mimetype": "text/x-python",
   "name": "python",
   "nbconvert_exporter": "python",
   "pygments_lexer": "ipython3",
   "version": "3.9.9"
  }
 },
 "nbformat": 4,
 "nbformat_minor": 5
}
