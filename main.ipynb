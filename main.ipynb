{
 "cells": [
  {
   "cell_type": "markdown",
   "id": "ac5b6a07-76c1-49c3-baa5-9eb94c734ee7",
   "metadata": {},
   "source": [
    "# Breast Cancer Wisconsin (Diagnostic) Data Set\n",
    "Predict whether the cancer is benign or malignant"
   ]
  },
  {
   "cell_type": "code",
   "execution_count": null,
   "id": "0d6bfbc8-6f41-490d-a337-7a027b417345",
   "metadata": {},
   "outputs": [],
   "source": []
  }
 ],
 "metadata": {
  "kernelspec": {
   "display_name": "Python 3 (ipykernel)",
   "language": "python",
   "name": "python3"
  },
  "language_info": {
   "codemirror_mode": {
    "name": "ipython",
    "version": 3
   },
   "file_extension": ".py",
   "mimetype": "text/x-python",
   "name": "python",
   "nbconvert_exporter": "python",
   "pygments_lexer": "ipython3",
   "version": "3.9.9"
  }
 },
 "nbformat": 4,
 "nbformat_minor": 5
}
