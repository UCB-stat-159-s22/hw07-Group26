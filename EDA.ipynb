{
 "cells": [
  {
   "cell_type": "markdown",
   "id": "0f4fc6c3-9f44-482a-863c-bf34b933f5bd",
   "metadata": {},
   "source": [
    "# Exploratory data analysis"
   ]
  },
  {
   "cell_type": "markdown",
   "id": "43c4239c-f5c3-49a1-b5a7-255d6f0e9cfc",
   "metadata": {},
   "source": [
    "## In this notebook, we will do use different models to diagnose whether a cancer is benign or malignant and evaluate each of them"
   ]
  },
  {
   "cell_type": "markdown",
   "id": "be63454c-3aaa-4499-ad3a-039dc5145a03",
   "metadata": {},
   "source": [
    "## Logistic Regression"
   ]
  },
  {
   "cell_type": "markdown",
   "id": "5946b10e-2d21-44a0-8846-e0f332f3fb5b",
   "metadata": {},
   "source": [
    "### Import necessary packages "
   ]
  },
  {
   "cell_type": "code",
   "execution_count": 26,
   "id": "b74bcad7-facd-48f0-9320-d7b964e3ca4f",
   "metadata": {},
   "outputs": [],
   "source": [
    "import pandas as pd\n",
    "from sklearn.linear_model import LogisticRegression\n",
    "from sklearn.metrics import accuracy_score"
   ]
  },
  {
   "cell_type": "markdown",
   "id": "97335235-bf3b-4dcb-80b8-d3c363d2d544",
   "metadata": {},
   "source": [
    "### Load the data"
   ]
  },
  {
   "cell_type": "code",
   "execution_count": 9,
   "id": "0e35cadc-c277-44f4-96c0-b8fb18ccdfb7",
   "metadata": {},
   "outputs": [],
   "source": [
    "train_data = pd.read_csv('data/train.csv')\n",
    "val_data = pd.read_csv('data/val.csv')\n",
    "test_data = pd.read_csv('data/test.csv')"
   ]
  },
  {
   "cell_type": "code",
   "execution_count": 35,
   "id": "61baadff-4272-48c6-9e94-9a71f7c58ae2",
   "metadata": {},
   "outputs": [],
   "source": [
    "X_train = train_data.drop(labels = ['diagnosis','id'],axis = 1) # drop labels for feature matrix\n",
    "y_train = train_data['diagnosis']\n",
    "X_val = val_data.drop(labels = ['diagnosis','id'],axis = 1)\n",
    "y_val = val_data['diagnosis']\n",
    "X_test = test_data.drop(labels = ['diagnosis','id'],axis = 1)\n",
    "y_test = test_data['diagnosis']"
   ]
  },
  {
   "cell_type": "markdown",
   "id": "37da0ac1-9d9a-4f48-a5bf-b22fa634d82c",
   "metadata": {},
   "source": [
    "### Built the model, train and validate"
   ]
  },
  {
   "cell_type": "code",
   "execution_count": 36,
   "id": "1f772be7-2cbc-423b-b5f2-aac1e9b37f94",
   "metadata": {},
   "outputs": [
    {
     "data": {
      "text/plain": [
       "0.9278350515463918"
      ]
     },
     "execution_count": 36,
     "metadata": {},
     "output_type": "execute_result"
    }
   ],
   "source": [
    "model = LogisticRegression(max_iter = 5000)\n",
    "model.fit(X_train,y_train)\n",
    "y_preds = model.predict(X_val)\n",
    "accuracy_score(y_preds,y_val)"
   ]
  },
  {
   "cell_type": "markdown",
   "id": "6221443a-3198-432e-a767-ad8b9accaea6",
   "metadata": {},
   "source": [
    "### Test the model"
   ]
  },
  {
   "cell_type": "code",
   "execution_count": 38,
   "id": "99167627-4ccd-442a-8244-1a185bd17134",
   "metadata": {},
   "outputs": [
    {
     "data": {
      "text/plain": [
       "0.9651162790697675"
      ]
     },
     "execution_count": 38,
     "metadata": {},
     "output_type": "execute_result"
    }
   ],
   "source": [
    "y_preds_test = model.predict(X_test)\n",
    "accuracy_score(y_preds_test,y_test)"
   ]
  }
 ],
 "metadata": {
  "kernelspec": {
   "display_name": "Python 3 (ipykernel)",
   "language": "python",
   "name": "python3"
  },
  "language_info": {
   "codemirror_mode": {
    "name": "ipython",
    "version": 3
   },
   "file_extension": ".py",
   "mimetype": "text/x-python",
   "name": "python",
   "nbconvert_exporter": "python",
   "pygments_lexer": "ipython3",
   "version": "3.9.9"
  }
 },
 "nbformat": 4,
 "nbformat_minor": 5
}
