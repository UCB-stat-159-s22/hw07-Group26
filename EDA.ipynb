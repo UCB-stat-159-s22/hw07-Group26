{
 "cells": [
  {
   "cell_type": "markdown",
   "id": "4d6bd9ae-dc4f-441a-95bd-b2e71e9ce484",
   "metadata": {
    "tags": []
   },
   "source": [
    "### Exploratory data analysis\n",
    "\n",
    "### Logistic Regression\n",
    "Import necessary packages\n",
    "\n",
    "import pandas as pd\n",
    "\n",
    "from sklearn.linear_model import LogisticRegression\n",
    "\n",
    "from sklearn.metrics import accuracy_score\n",
    "\n",
    "### Load the data\n",
    "\n",
    "train_data = pd.read_csv('data/train.csv')\n",
    "\n",
    "val_data = pd.read_csv('data/val.csv')\n",
    "\n",
    "test_data = pd.read_csv('data/test.csv')\n",
    "\n",
    "X_train = train_data.drop(labels = ['diagnosis','id'],axis = 1) # drop labels for feature matrix\n",
    "\n",
    "y_train = train_data['diagnosis']\n",
    "\n",
    "X_val = val_data.drop(labels = ['diagnosis','id'],axis = 1)\n",
    "\n",
    "y_val = val_data['diagnosis']\n",
    "\n",
    "X_test = test_data.drop(labels = ['diagnosis','id'],axis = 1)\n",
    "\n",
    "y_test = test_data['diagnosis']\n",
    "\n",
    "Built the model, train and validate\n",
    "\n",
    "model = LogisticRegression(max_iter = 5000)\n",
    "\n",
    "model.fit(X_train,y_train)\n",
    "\n",
    "y_preds = model.predict(X_val)\n",
    "\n",
    "accuracy_score(y_preds,y_val)\n",
    "\n",
    "0.9278350515463918\n",
    "\n",
    "Test the model\n",
    "\n",
    "y_preds_test = model.predict(X_test)\n",
    "\n",
    "accuracy_score(y_preds_test,y_test)\n",
    "\n",
    "0.9651162790697675\n",
    "\n"
   ]
  },
  {
   "cell_type": "markdown",
   "id": "ee987198-e81b-4bad-8059-158dedb93b60",
   "metadata": {},
   "source": [
    "## In this notebook, we will do use different models to diagnose whether a cancer is benign or malignant and evaluate each of them"
   ]
  },
  {
   "cell_type": "markdown",
   "id": "dba8b257-8a75-4a09-a607-4ec1e1399489",
   "metadata": {
    "tags": []
   },
   "source": [
    "## Logistic Regression"
   ]
  },
  {
   "cell_type": "markdown",
   "id": "1406655c-4cc0-48e9-a1df-8fa27d70c6ff",
   "metadata": {},
   "source": [
    "### Import necessary packages"
   ]
  },
  {
   "cell_type": "code",
   "execution_count": 2,
   "id": "69ce42e2-82e2-476a-9f4a-906b2b0a5549",
   "metadata": {},
   "outputs": [],
   "source": [
    "import pandas as pd\n",
    "from sklearn.linear_model import LogisticRegression\n",
    "from sklearn.metrics import accuracy_score"
   ]
  },
  {
   "cell_type": "markdown",
   "id": "c0a5de33-a45d-4896-bef0-cae42aeb839a",
   "metadata": {},
   "source": [
    "### Load the data"
   ]
  },
  {
   "cell_type": "code",
   "execution_count": 3,
   "id": "c6b06299-1532-42c0-b266-ccbd709b293b",
   "metadata": {},
   "outputs": [],
   "source": [
    "train_data = pd.read_csv('data/train.csv')\n",
    "val_data = pd.read_csv('data/val.csv')\n",
    "test_data = pd.read_csv('data/test.csv')\n",
    "X_train = train_data.drop(labels = ['diagnosis','id'],axis = 1) # drop labels for feature matrix and less predictive features\n",
    "y_train = train_data['diagnosis']\n",
    "X_val = val_data.drop(labels = ['diagnosis','id'],axis = 1)\n",
    "y_val = val_data['diagnosis']\n",
    "X_test = test_data.drop(labels = ['diagnosis','id'],axis = 1)\n",
    "y_test = test_data['diagnosis']"
   ]
  },
  {
   "cell_type": "markdown",
   "id": "7cf1b7e0-39d7-4cf3-9bc0-b3c1ccb7b469",
   "metadata": {},
   "source": [
    "### Built the model, train and validate"
   ]
  },
  {
   "cell_type": "code",
   "execution_count": 4,
   "id": "92ae4557-5256-44d9-b767-607fc450ff7a",
   "metadata": {},
   "outputs": [
    {
     "data": {
      "text/plain": [
       "0.9278350515463918"
      ]
     },
     "execution_count": 4,
     "metadata": {},
     "output_type": "execute_result"
    }
   ],
   "source": [
    "model = LogisticRegression(max_iter = 5000)\n",
    "model.fit(X_train,y_train)\n",
    "y_preds = model.predict(X_val)\n",
    "accuracy_score(y_preds,y_val)"
   ]
  },
  {
   "cell_type": "markdown",
   "id": "51787d48-9872-408c-aedf-3cf572263e46",
   "metadata": {},
   "source": [
    "### Test the model"
   ]
  },
  {
   "cell_type": "code",
   "execution_count": 5,
   "id": "1da93edb-2836-4605-b7d6-de1bb7c12af8",
   "metadata": {},
   "outputs": [
    {
     "data": {
      "text/plain": [
       "0.9651162790697675"
      ]
     },
     "execution_count": 5,
     "metadata": {},
     "output_type": "execute_result"
    }
   ],
   "source": [
    "y_preds_test = model.predict(X_test)\n",
    "accuracy_score(y_preds_test,y_test)"
   ]
  }
 ],
 "metadata": {
  "kernelspec": {
   "display_name": "Python 3 (ipykernel)",
   "language": "python",
   "name": "python3"
  },
  "language_info": {
   "codemirror_mode": {
    "name": "ipython",
    "version": 3
   },
   "file_extension": ".py",
   "mimetype": "text/x-python",
   "name": "python",
   "nbconvert_exporter": "python",
   "pygments_lexer": "ipython3",
   "version": "3.9.9"
  }
 },
 "nbformat": 4,
 "nbformat_minor": 5
}
