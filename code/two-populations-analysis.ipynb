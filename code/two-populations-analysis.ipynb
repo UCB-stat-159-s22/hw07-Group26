{
 "cells": [
  {
   "cell_type": "markdown",
   "id": "eb3fe36b-c91a-4d18-987a-917d758653de",
   "metadata": {},
   "source": [
    "### Two Populations Comparative Statistical Analysis"
   ]
  },
  {
   "cell_type": "markdown",
   "id": "23cee81e-7d20-400f-b771-dea0cd608de6",
   "metadata": {},
   "source": [
    "This notebook explores the differences between two populations: patients with breast cancer and those without. We have a sample of 357 patients without cancer and 212 patients with cancer consisting of 30 key variables that may help distinguish __. We will utilize hypothesis testing to see whether the two groups do indeed differ in and that it is not due to chance. "
   ]
  },
  {
   "cell_type": "code",
   "execution_count": 1,
   "id": "3fa48af8-ef15-4a15-8576-d2550709275f",
   "metadata": {},
   "outputs": [],
   "source": [
    "import pandas as pd\n",
    "from scipy import stats\n",
    "import matplotlib.pyplot as plt\n",
    "from diagnosis.twosample import plt_by_diagnosis, two_sample_t_test"
   ]
  },
  {
   "cell_type": "code",
   "execution_count": 2,
   "id": "f404e2ca-9e4a-4878-a0d7-08b026977500",
   "metadata": {},
   "outputs": [
    {
     "data": {
      "text/html": [
       "<div>\n",
       "<style scoped>\n",
       "    .dataframe tbody tr th:only-of-type {\n",
       "        vertical-align: middle;\n",
       "    }\n",
       "\n",
       "    .dataframe tbody tr th {\n",
       "        vertical-align: top;\n",
       "    }\n",
       "\n",
       "    .dataframe thead th {\n",
       "        text-align: right;\n",
       "    }\n",
       "</style>\n",
       "<table border=\"1\" class=\"dataframe\">\n",
       "  <thead>\n",
       "    <tr style=\"text-align: right;\">\n",
       "      <th></th>\n",
       "      <th>id</th>\n",
       "      <th>diagnosis</th>\n",
       "      <th>radius_mean</th>\n",
       "      <th>texture_mean</th>\n",
       "      <th>perimeter_mean</th>\n",
       "      <th>area_mean</th>\n",
       "      <th>smoothness_mean</th>\n",
       "      <th>compactness_mean</th>\n",
       "      <th>concavity_mean</th>\n",
       "      <th>concave points_mean</th>\n",
       "      <th>...</th>\n",
       "      <th>radius_worst</th>\n",
       "      <th>texture_worst</th>\n",
       "      <th>perimeter_worst</th>\n",
       "      <th>area_worst</th>\n",
       "      <th>smoothness_worst</th>\n",
       "      <th>compactness_worst</th>\n",
       "      <th>concavity_worst</th>\n",
       "      <th>concave points_worst</th>\n",
       "      <th>symmetry_worst</th>\n",
       "      <th>fractal_dimension_worst</th>\n",
       "    </tr>\n",
       "  </thead>\n",
       "  <tbody>\n",
       "    <tr>\n",
       "      <th>0</th>\n",
       "      <td>842302</td>\n",
       "      <td>1.0</td>\n",
       "      <td>17.99</td>\n",
       "      <td>10.38</td>\n",
       "      <td>122.80</td>\n",
       "      <td>1001.0</td>\n",
       "      <td>0.11840</td>\n",
       "      <td>0.27760</td>\n",
       "      <td>0.3001</td>\n",
       "      <td>0.14710</td>\n",
       "      <td>...</td>\n",
       "      <td>25.38</td>\n",
       "      <td>17.33</td>\n",
       "      <td>184.60</td>\n",
       "      <td>2019.0</td>\n",
       "      <td>0.1622</td>\n",
       "      <td>0.6656</td>\n",
       "      <td>0.7119</td>\n",
       "      <td>0.2654</td>\n",
       "      <td>0.4601</td>\n",
       "      <td>0.11890</td>\n",
       "    </tr>\n",
       "    <tr>\n",
       "      <th>1</th>\n",
       "      <td>842517</td>\n",
       "      <td>1.0</td>\n",
       "      <td>20.57</td>\n",
       "      <td>17.77</td>\n",
       "      <td>132.90</td>\n",
       "      <td>1326.0</td>\n",
       "      <td>0.08474</td>\n",
       "      <td>0.07864</td>\n",
       "      <td>0.0869</td>\n",
       "      <td>0.07017</td>\n",
       "      <td>...</td>\n",
       "      <td>24.99</td>\n",
       "      <td>23.41</td>\n",
       "      <td>158.80</td>\n",
       "      <td>1956.0</td>\n",
       "      <td>0.1238</td>\n",
       "      <td>0.1866</td>\n",
       "      <td>0.2416</td>\n",
       "      <td>0.1860</td>\n",
       "      <td>0.2750</td>\n",
       "      <td>0.08902</td>\n",
       "    </tr>\n",
       "    <tr>\n",
       "      <th>2</th>\n",
       "      <td>84300903</td>\n",
       "      <td>1.0</td>\n",
       "      <td>19.69</td>\n",
       "      <td>21.25</td>\n",
       "      <td>130.00</td>\n",
       "      <td>1203.0</td>\n",
       "      <td>0.10960</td>\n",
       "      <td>0.15990</td>\n",
       "      <td>0.1974</td>\n",
       "      <td>0.12790</td>\n",
       "      <td>...</td>\n",
       "      <td>23.57</td>\n",
       "      <td>25.53</td>\n",
       "      <td>152.50</td>\n",
       "      <td>1709.0</td>\n",
       "      <td>0.1444</td>\n",
       "      <td>0.4245</td>\n",
       "      <td>0.4504</td>\n",
       "      <td>0.2430</td>\n",
       "      <td>0.3613</td>\n",
       "      <td>0.08758</td>\n",
       "    </tr>\n",
       "    <tr>\n",
       "      <th>3</th>\n",
       "      <td>84348301</td>\n",
       "      <td>1.0</td>\n",
       "      <td>11.42</td>\n",
       "      <td>20.38</td>\n",
       "      <td>77.58</td>\n",
       "      <td>386.1</td>\n",
       "      <td>0.14250</td>\n",
       "      <td>0.28390</td>\n",
       "      <td>0.2414</td>\n",
       "      <td>0.10520</td>\n",
       "      <td>...</td>\n",
       "      <td>14.91</td>\n",
       "      <td>26.50</td>\n",
       "      <td>98.87</td>\n",
       "      <td>567.7</td>\n",
       "      <td>0.2098</td>\n",
       "      <td>0.8663</td>\n",
       "      <td>0.6869</td>\n",
       "      <td>0.2575</td>\n",
       "      <td>0.6638</td>\n",
       "      <td>0.17300</td>\n",
       "    </tr>\n",
       "    <tr>\n",
       "      <th>4</th>\n",
       "      <td>84358402</td>\n",
       "      <td>1.0</td>\n",
       "      <td>20.29</td>\n",
       "      <td>14.34</td>\n",
       "      <td>135.10</td>\n",
       "      <td>1297.0</td>\n",
       "      <td>0.10030</td>\n",
       "      <td>0.13280</td>\n",
       "      <td>0.1980</td>\n",
       "      <td>0.10430</td>\n",
       "      <td>...</td>\n",
       "      <td>22.54</td>\n",
       "      <td>16.67</td>\n",
       "      <td>152.20</td>\n",
       "      <td>1575.0</td>\n",
       "      <td>0.1374</td>\n",
       "      <td>0.2050</td>\n",
       "      <td>0.4000</td>\n",
       "      <td>0.1625</td>\n",
       "      <td>0.2364</td>\n",
       "      <td>0.07678</td>\n",
       "    </tr>\n",
       "  </tbody>\n",
       "</table>\n",
       "<p>5 rows × 32 columns</p>\n",
       "</div>"
      ],
      "text/plain": [
       "         id  diagnosis  radius_mean  texture_mean  perimeter_mean  area_mean  \\\n",
       "0    842302        1.0        17.99         10.38          122.80     1001.0   \n",
       "1    842517        1.0        20.57         17.77          132.90     1326.0   \n",
       "2  84300903        1.0        19.69         21.25          130.00     1203.0   \n",
       "3  84348301        1.0        11.42         20.38           77.58      386.1   \n",
       "4  84358402        1.0        20.29         14.34          135.10     1297.0   \n",
       "\n",
       "   smoothness_mean  compactness_mean  concavity_mean  concave points_mean  \\\n",
       "0          0.11840           0.27760          0.3001              0.14710   \n",
       "1          0.08474           0.07864          0.0869              0.07017   \n",
       "2          0.10960           0.15990          0.1974              0.12790   \n",
       "3          0.14250           0.28390          0.2414              0.10520   \n",
       "4          0.10030           0.13280          0.1980              0.10430   \n",
       "\n",
       "   ...  radius_worst  texture_worst  perimeter_worst  area_worst  \\\n",
       "0  ...         25.38          17.33           184.60      2019.0   \n",
       "1  ...         24.99          23.41           158.80      1956.0   \n",
       "2  ...         23.57          25.53           152.50      1709.0   \n",
       "3  ...         14.91          26.50            98.87       567.7   \n",
       "4  ...         22.54          16.67           152.20      1575.0   \n",
       "\n",
       "   smoothness_worst  compactness_worst  concavity_worst  concave points_worst  \\\n",
       "0            0.1622             0.6656           0.7119                0.2654   \n",
       "1            0.1238             0.1866           0.2416                0.1860   \n",
       "2            0.1444             0.4245           0.4504                0.2430   \n",
       "3            0.2098             0.8663           0.6869                0.2575   \n",
       "4            0.1374             0.2050           0.4000                0.1625   \n",
       "\n",
       "   symmetry_worst  fractal_dimension_worst  \n",
       "0          0.4601                  0.11890  \n",
       "1          0.2750                  0.08902  \n",
       "2          0.3613                  0.08758  \n",
       "3          0.6638                  0.17300  \n",
       "4          0.2364                  0.07678  \n",
       "\n",
       "[5 rows x 32 columns]"
      ]
     },
     "execution_count": 2,
     "metadata": {},
     "output_type": "execute_result"
    }
   ],
   "source": [
    "dat = pd.read_csv('../data/clean.csv')\n",
    "dat_ = dat.iloc[:, 1:]\n",
    "dat.head()"
   ]
  },
  {
   "cell_type": "code",
   "execution_count": 3,
   "id": "4fe520f9-d9d8-4296-9637-14821ba70b10",
   "metadata": {},
   "outputs": [
    {
     "data": {
      "text/plain": [
       "Index(['id', 'diagnosis', 'radius_mean', 'texture_mean', 'perimeter_mean',\n",
       "       'area_mean', 'smoothness_mean', 'compactness_mean', 'concavity_mean',\n",
       "       'concave points_mean', 'symmetry_mean', 'fractal_dimension_mean',\n",
       "       'radius_se', 'texture_se', 'perimeter_se', 'area_se', 'smoothness_se',\n",
       "       'compactness_se', 'concavity_se', 'concave points_se', 'symmetry_se',\n",
       "       'fractal_dimension_se', 'radius_worst', 'texture_worst',\n",
       "       'perimeter_worst', 'area_worst', 'smoothness_worst',\n",
       "       'compactness_worst', 'concavity_worst', 'concave points_worst',\n",
       "       'symmetry_worst', 'fractal_dimension_worst'],\n",
       "      dtype='object')"
      ]
     },
     "execution_count": 3,
     "metadata": {},
     "output_type": "execute_result"
    }
   ],
   "source": [
    "dat.columns"
   ]
  },
  {
   "cell_type": "code",
   "execution_count": 4,
   "id": "5bc1578e-633b-42b6-8ea6-0206ee349043",
   "metadata": {},
   "outputs": [
    {
     "data": {
      "text/html": [
       "<div>\n",
       "<style scoped>\n",
       "    .dataframe tbody tr th:only-of-type {\n",
       "        vertical-align: middle;\n",
       "    }\n",
       "\n",
       "    .dataframe tbody tr th {\n",
       "        vertical-align: top;\n",
       "    }\n",
       "\n",
       "    .dataframe thead th {\n",
       "        text-align: right;\n",
       "    }\n",
       "</style>\n",
       "<table border=\"1\" class=\"dataframe\">\n",
       "  <thead>\n",
       "    <tr style=\"text-align: right;\">\n",
       "      <th></th>\n",
       "      <th>radius_mean</th>\n",
       "      <th>texture_mean</th>\n",
       "      <th>perimeter_mean</th>\n",
       "      <th>area_mean</th>\n",
       "      <th>smoothness_mean</th>\n",
       "      <th>compactness_mean</th>\n",
       "      <th>concavity_mean</th>\n",
       "      <th>concave points_mean</th>\n",
       "      <th>symmetry_mean</th>\n",
       "      <th>fractal_dimension_mean</th>\n",
       "      <th>...</th>\n",
       "      <th>radius_worst</th>\n",
       "      <th>texture_worst</th>\n",
       "      <th>perimeter_worst</th>\n",
       "      <th>area_worst</th>\n",
       "      <th>smoothness_worst</th>\n",
       "      <th>compactness_worst</th>\n",
       "      <th>concavity_worst</th>\n",
       "      <th>concave points_worst</th>\n",
       "      <th>symmetry_worst</th>\n",
       "      <th>fractal_dimension_worst</th>\n",
       "    </tr>\n",
       "    <tr>\n",
       "      <th>diagnosis</th>\n",
       "      <th></th>\n",
       "      <th></th>\n",
       "      <th></th>\n",
       "      <th></th>\n",
       "      <th></th>\n",
       "      <th></th>\n",
       "      <th></th>\n",
       "      <th></th>\n",
       "      <th></th>\n",
       "      <th></th>\n",
       "      <th></th>\n",
       "      <th></th>\n",
       "      <th></th>\n",
       "      <th></th>\n",
       "      <th></th>\n",
       "      <th></th>\n",
       "      <th></th>\n",
       "      <th></th>\n",
       "      <th></th>\n",
       "      <th></th>\n",
       "      <th></th>\n",
       "    </tr>\n",
       "  </thead>\n",
       "  <tbody>\n",
       "    <tr>\n",
       "      <th>0.0</th>\n",
       "      <td>12.146524</td>\n",
       "      <td>17.914762</td>\n",
       "      <td>78.075406</td>\n",
       "      <td>462.790196</td>\n",
       "      <td>0.092478</td>\n",
       "      <td>0.080085</td>\n",
       "      <td>0.046058</td>\n",
       "      <td>0.025717</td>\n",
       "      <td>0.174186</td>\n",
       "      <td>0.062867</td>\n",
       "      <td>...</td>\n",
       "      <td>13.379801</td>\n",
       "      <td>23.515070</td>\n",
       "      <td>87.005938</td>\n",
       "      <td>558.899440</td>\n",
       "      <td>0.124959</td>\n",
       "      <td>0.182673</td>\n",
       "      <td>0.166238</td>\n",
       "      <td>0.074444</td>\n",
       "      <td>0.270246</td>\n",
       "      <td>0.079442</td>\n",
       "    </tr>\n",
       "    <tr>\n",
       "      <th>1.0</th>\n",
       "      <td>17.462830</td>\n",
       "      <td>21.604906</td>\n",
       "      <td>115.365377</td>\n",
       "      <td>978.376415</td>\n",
       "      <td>0.102898</td>\n",
       "      <td>0.145188</td>\n",
       "      <td>0.160775</td>\n",
       "      <td>0.087990</td>\n",
       "      <td>0.192909</td>\n",
       "      <td>0.062680</td>\n",
       "      <td>...</td>\n",
       "      <td>21.134811</td>\n",
       "      <td>29.318208</td>\n",
       "      <td>141.370330</td>\n",
       "      <td>1422.286321</td>\n",
       "      <td>0.144845</td>\n",
       "      <td>0.374824</td>\n",
       "      <td>0.450606</td>\n",
       "      <td>0.182237</td>\n",
       "      <td>0.323468</td>\n",
       "      <td>0.091530</td>\n",
       "    </tr>\n",
       "  </tbody>\n",
       "</table>\n",
       "<p>2 rows × 30 columns</p>\n",
       "</div>"
      ],
      "text/plain": [
       "           radius_mean  texture_mean  perimeter_mean   area_mean  \\\n",
       "diagnosis                                                          \n",
       "0.0          12.146524     17.914762       78.075406  462.790196   \n",
       "1.0          17.462830     21.604906      115.365377  978.376415   \n",
       "\n",
       "           smoothness_mean  compactness_mean  concavity_mean  \\\n",
       "diagnosis                                                      \n",
       "0.0               0.092478          0.080085        0.046058   \n",
       "1.0               0.102898          0.145188        0.160775   \n",
       "\n",
       "           concave points_mean  symmetry_mean  fractal_dimension_mean  ...  \\\n",
       "diagnosis                                                              ...   \n",
       "0.0                   0.025717       0.174186                0.062867  ...   \n",
       "1.0                   0.087990       0.192909                0.062680  ...   \n",
       "\n",
       "           radius_worst  texture_worst  perimeter_worst   area_worst  \\\n",
       "diagnosis                                                              \n",
       "0.0           13.379801      23.515070        87.005938   558.899440   \n",
       "1.0           21.134811      29.318208       141.370330  1422.286321   \n",
       "\n",
       "           smoothness_worst  compactness_worst  concavity_worst  \\\n",
       "diagnosis                                                         \n",
       "0.0                0.124959           0.182673         0.166238   \n",
       "1.0                0.144845           0.374824         0.450606   \n",
       "\n",
       "           concave points_worst  symmetry_worst  fractal_dimension_worst  \n",
       "diagnosis                                                                 \n",
       "0.0                    0.074444        0.270246                 0.079442  \n",
       "1.0                    0.182237        0.323468                 0.091530  \n",
       "\n",
       "[2 rows x 30 columns]"
      ]
     },
     "execution_count": 4,
     "metadata": {},
     "output_type": "execute_result"
    }
   ],
   "source": [
    "dat__diagnosis_mean = dat_.groupby(\"diagnosis\").mean()\n",
    "dat__diagnosis_mean"
   ]
  },
  {
   "cell_type": "code",
   "execution_count": 5,
   "id": "1878b884-67a7-4386-9c75-1a90ad29510a",
   "metadata": {},
   "outputs": [
    {
     "data": {
      "text/html": [
       "<div>\n",
       "<style scoped>\n",
       "    .dataframe tbody tr th:only-of-type {\n",
       "        vertical-align: middle;\n",
       "    }\n",
       "\n",
       "    .dataframe tbody tr th {\n",
       "        vertical-align: top;\n",
       "    }\n",
       "\n",
       "    .dataframe thead th {\n",
       "        text-align: right;\n",
       "    }\n",
       "</style>\n",
       "<table border=\"1\" class=\"dataframe\">\n",
       "  <thead>\n",
       "    <tr style=\"text-align: right;\">\n",
       "      <th></th>\n",
       "      <th>radius_mean</th>\n",
       "      <th>texture_mean</th>\n",
       "      <th>perimeter_mean</th>\n",
       "      <th>area_mean</th>\n",
       "      <th>smoothness_mean</th>\n",
       "      <th>compactness_mean</th>\n",
       "      <th>concavity_mean</th>\n",
       "      <th>concave points_mean</th>\n",
       "      <th>symmetry_mean</th>\n",
       "      <th>fractal_dimension_mean</th>\n",
       "      <th>...</th>\n",
       "      <th>radius_worst</th>\n",
       "      <th>texture_worst</th>\n",
       "      <th>perimeter_worst</th>\n",
       "      <th>area_worst</th>\n",
       "      <th>smoothness_worst</th>\n",
       "      <th>compactness_worst</th>\n",
       "      <th>concavity_worst</th>\n",
       "      <th>concave points_worst</th>\n",
       "      <th>symmetry_worst</th>\n",
       "      <th>fractal_dimension_worst</th>\n",
       "    </tr>\n",
       "    <tr>\n",
       "      <th>diagnosis</th>\n",
       "      <th></th>\n",
       "      <th></th>\n",
       "      <th></th>\n",
       "      <th></th>\n",
       "      <th></th>\n",
       "      <th></th>\n",
       "      <th></th>\n",
       "      <th></th>\n",
       "      <th></th>\n",
       "      <th></th>\n",
       "      <th></th>\n",
       "      <th></th>\n",
       "      <th></th>\n",
       "      <th></th>\n",
       "      <th></th>\n",
       "      <th></th>\n",
       "      <th></th>\n",
       "      <th></th>\n",
       "      <th></th>\n",
       "      <th></th>\n",
       "      <th></th>\n",
       "    </tr>\n",
       "  </thead>\n",
       "  <tbody>\n",
       "    <tr>\n",
       "      <th>0.0</th>\n",
       "      <td>1.780512</td>\n",
       "      <td>3.995125</td>\n",
       "      <td>11.807438</td>\n",
       "      <td>134.287118</td>\n",
       "      <td>0.013446</td>\n",
       "      <td>0.033750</td>\n",
       "      <td>0.043442</td>\n",
       "      <td>0.015909</td>\n",
       "      <td>0.024807</td>\n",
       "      <td>0.006747</td>\n",
       "      <td>...</td>\n",
       "      <td>1.981368</td>\n",
       "      <td>5.493955</td>\n",
       "      <td>13.527091</td>\n",
       "      <td>163.601424</td>\n",
       "      <td>0.020013</td>\n",
       "      <td>0.092180</td>\n",
       "      <td>0.140368</td>\n",
       "      <td>0.035797</td>\n",
       "      <td>0.041745</td>\n",
       "      <td>0.013804</td>\n",
       "    </tr>\n",
       "    <tr>\n",
       "      <th>1.0</th>\n",
       "      <td>3.203971</td>\n",
       "      <td>3.779470</td>\n",
       "      <td>21.854653</td>\n",
       "      <td>367.937978</td>\n",
       "      <td>0.012608</td>\n",
       "      <td>0.053987</td>\n",
       "      <td>0.075019</td>\n",
       "      <td>0.034374</td>\n",
       "      <td>0.027638</td>\n",
       "      <td>0.007573</td>\n",
       "      <td>...</td>\n",
       "      <td>4.283569</td>\n",
       "      <td>5.434804</td>\n",
       "      <td>29.457055</td>\n",
       "      <td>597.967743</td>\n",
       "      <td>0.021870</td>\n",
       "      <td>0.170372</td>\n",
       "      <td>0.181507</td>\n",
       "      <td>0.046308</td>\n",
       "      <td>0.074685</td>\n",
       "      <td>0.021553</td>\n",
       "    </tr>\n",
       "  </tbody>\n",
       "</table>\n",
       "<p>2 rows × 30 columns</p>\n",
       "</div>"
      ],
      "text/plain": [
       "           radius_mean  texture_mean  perimeter_mean   area_mean  \\\n",
       "diagnosis                                                          \n",
       "0.0           1.780512      3.995125       11.807438  134.287118   \n",
       "1.0           3.203971      3.779470       21.854653  367.937978   \n",
       "\n",
       "           smoothness_mean  compactness_mean  concavity_mean  \\\n",
       "diagnosis                                                      \n",
       "0.0               0.013446          0.033750        0.043442   \n",
       "1.0               0.012608          0.053987        0.075019   \n",
       "\n",
       "           concave points_mean  symmetry_mean  fractal_dimension_mean  ...  \\\n",
       "diagnosis                                                              ...   \n",
       "0.0                   0.015909       0.024807                0.006747  ...   \n",
       "1.0                   0.034374       0.027638                0.007573  ...   \n",
       "\n",
       "           radius_worst  texture_worst  perimeter_worst  area_worst  \\\n",
       "diagnosis                                                             \n",
       "0.0            1.981368       5.493955        13.527091  163.601424   \n",
       "1.0            4.283569       5.434804        29.457055  597.967743   \n",
       "\n",
       "           smoothness_worst  compactness_worst  concavity_worst  \\\n",
       "diagnosis                                                         \n",
       "0.0                0.020013           0.092180         0.140368   \n",
       "1.0                0.021870           0.170372         0.181507   \n",
       "\n",
       "           concave points_worst  symmetry_worst  fractal_dimension_worst  \n",
       "diagnosis                                                                 \n",
       "0.0                    0.035797        0.041745                 0.013804  \n",
       "1.0                    0.046308        0.074685                 0.021553  \n",
       "\n",
       "[2 rows x 30 columns]"
      ]
     },
     "execution_count": 5,
     "metadata": {},
     "output_type": "execute_result"
    }
   ],
   "source": [
    "dat__diagnosis_std = dat_.groupby(\"diagnosis\").std()\n",
    "dat__diagnosis_std"
   ]
  },
  {
   "cell_type": "code",
   "execution_count": 6,
   "id": "5ec969e6-2b20-4a8d-9dbf-15c27c7e8128",
   "metadata": {},
   "outputs": [
    {
     "data": {
      "text/html": [
       "<div>\n",
       "<style scoped>\n",
       "    .dataframe tbody tr th:only-of-type {\n",
       "        vertical-align: middle;\n",
       "    }\n",
       "\n",
       "    .dataframe tbody tr th {\n",
       "        vertical-align: top;\n",
       "    }\n",
       "\n",
       "    .dataframe thead th {\n",
       "        text-align: right;\n",
       "    }\n",
       "</style>\n",
       "<table border=\"1\" class=\"dataframe\">\n",
       "  <thead>\n",
       "    <tr style=\"text-align: right;\">\n",
       "      <th></th>\n",
       "      <th>radius_mean</th>\n",
       "      <th>texture_mean</th>\n",
       "      <th>perimeter_mean</th>\n",
       "      <th>area_mean</th>\n",
       "      <th>smoothness_mean</th>\n",
       "      <th>compactness_mean</th>\n",
       "      <th>concavity_mean</th>\n",
       "      <th>concave points_mean</th>\n",
       "      <th>symmetry_mean</th>\n",
       "      <th>fractal_dimension_mean</th>\n",
       "      <th>...</th>\n",
       "      <th>radius_worst</th>\n",
       "      <th>texture_worst</th>\n",
       "      <th>perimeter_worst</th>\n",
       "      <th>area_worst</th>\n",
       "      <th>smoothness_worst</th>\n",
       "      <th>compactness_worst</th>\n",
       "      <th>concavity_worst</th>\n",
       "      <th>concave points_worst</th>\n",
       "      <th>symmetry_worst</th>\n",
       "      <th>fractal_dimension_worst</th>\n",
       "    </tr>\n",
       "    <tr>\n",
       "      <th>diagnosis</th>\n",
       "      <th></th>\n",
       "      <th></th>\n",
       "      <th></th>\n",
       "      <th></th>\n",
       "      <th></th>\n",
       "      <th></th>\n",
       "      <th></th>\n",
       "      <th></th>\n",
       "      <th></th>\n",
       "      <th></th>\n",
       "      <th></th>\n",
       "      <th></th>\n",
       "      <th></th>\n",
       "      <th></th>\n",
       "      <th></th>\n",
       "      <th></th>\n",
       "      <th></th>\n",
       "      <th></th>\n",
       "      <th></th>\n",
       "      <th></th>\n",
       "      <th></th>\n",
       "    </tr>\n",
       "  </thead>\n",
       "  <tbody>\n",
       "    <tr>\n",
       "      <th>0.0</th>\n",
       "      <td>12.146524</td>\n",
       "      <td>17.914762</td>\n",
       "      <td>78.075406</td>\n",
       "      <td>462.790196</td>\n",
       "      <td>0.092478</td>\n",
       "      <td>0.080085</td>\n",
       "      <td>0.046058</td>\n",
       "      <td>0.025717</td>\n",
       "      <td>0.174186</td>\n",
       "      <td>0.062867</td>\n",
       "      <td>...</td>\n",
       "      <td>13.379801</td>\n",
       "      <td>23.515070</td>\n",
       "      <td>87.005938</td>\n",
       "      <td>558.899440</td>\n",
       "      <td>0.124959</td>\n",
       "      <td>0.182673</td>\n",
       "      <td>0.166238</td>\n",
       "      <td>0.074444</td>\n",
       "      <td>0.270246</td>\n",
       "      <td>0.079442</td>\n",
       "    </tr>\n",
       "    <tr>\n",
       "      <th>1.0</th>\n",
       "      <td>17.462830</td>\n",
       "      <td>21.604906</td>\n",
       "      <td>115.365377</td>\n",
       "      <td>978.376415</td>\n",
       "      <td>0.102898</td>\n",
       "      <td>0.145188</td>\n",
       "      <td>0.160775</td>\n",
       "      <td>0.087990</td>\n",
       "      <td>0.192909</td>\n",
       "      <td>0.062680</td>\n",
       "      <td>...</td>\n",
       "      <td>21.134811</td>\n",
       "      <td>29.318208</td>\n",
       "      <td>141.370330</td>\n",
       "      <td>1422.286321</td>\n",
       "      <td>0.144845</td>\n",
       "      <td>0.374824</td>\n",
       "      <td>0.450606</td>\n",
       "      <td>0.182237</td>\n",
       "      <td>0.323468</td>\n",
       "      <td>0.091530</td>\n",
       "    </tr>\n",
       "    <tr>\n",
       "      <th>diff</th>\n",
       "      <td>-5.316306</td>\n",
       "      <td>-3.690144</td>\n",
       "      <td>-37.289971</td>\n",
       "      <td>-515.586219</td>\n",
       "      <td>-0.010421</td>\n",
       "      <td>-0.065103</td>\n",
       "      <td>-0.114717</td>\n",
       "      <td>-0.062273</td>\n",
       "      <td>-0.018723</td>\n",
       "      <td>0.000187</td>\n",
       "      <td>...</td>\n",
       "      <td>-7.755010</td>\n",
       "      <td>-5.803138</td>\n",
       "      <td>-54.364392</td>\n",
       "      <td>-863.386881</td>\n",
       "      <td>-0.019886</td>\n",
       "      <td>-0.192152</td>\n",
       "      <td>-0.284368</td>\n",
       "      <td>-0.107793</td>\n",
       "      <td>-0.053222</td>\n",
       "      <td>-0.012088</td>\n",
       "    </tr>\n",
       "  </tbody>\n",
       "</table>\n",
       "<p>3 rows × 30 columns</p>\n",
       "</div>"
      ],
      "text/plain": [
       "           radius_mean  texture_mean  perimeter_mean   area_mean  \\\n",
       "diagnosis                                                          \n",
       "0.0          12.146524     17.914762       78.075406  462.790196   \n",
       "1.0          17.462830     21.604906      115.365377  978.376415   \n",
       "diff         -5.316306     -3.690144      -37.289971 -515.586219   \n",
       "\n",
       "           smoothness_mean  compactness_mean  concavity_mean  \\\n",
       "diagnosis                                                      \n",
       "0.0               0.092478          0.080085        0.046058   \n",
       "1.0               0.102898          0.145188        0.160775   \n",
       "diff             -0.010421         -0.065103       -0.114717   \n",
       "\n",
       "           concave points_mean  symmetry_mean  fractal_dimension_mean  ...  \\\n",
       "diagnosis                                                              ...   \n",
       "0.0                   0.025717       0.174186                0.062867  ...   \n",
       "1.0                   0.087990       0.192909                0.062680  ...   \n",
       "diff                 -0.062273      -0.018723                0.000187  ...   \n",
       "\n",
       "           radius_worst  texture_worst  perimeter_worst   area_worst  \\\n",
       "diagnosis                                                              \n",
       "0.0           13.379801      23.515070        87.005938   558.899440   \n",
       "1.0           21.134811      29.318208       141.370330  1422.286321   \n",
       "diff          -7.755010      -5.803138       -54.364392  -863.386881   \n",
       "\n",
       "           smoothness_worst  compactness_worst  concavity_worst  \\\n",
       "diagnosis                                                         \n",
       "0.0                0.124959           0.182673         0.166238   \n",
       "1.0                0.144845           0.374824         0.450606   \n",
       "diff              -0.019886          -0.192152        -0.284368   \n",
       "\n",
       "           concave points_worst  symmetry_worst  fractal_dimension_worst  \n",
       "diagnosis                                                                 \n",
       "0.0                    0.074444        0.270246                 0.079442  \n",
       "1.0                    0.182237        0.323468                 0.091530  \n",
       "diff                  -0.107793       -0.053222                -0.012088  \n",
       "\n",
       "[3 rows x 30 columns]"
      ]
     },
     "execution_count": 6,
     "metadata": {},
     "output_type": "execute_result"
    }
   ],
   "source": [
    "dat__diagnosis_mean.loc[\"diff\"] = dat__diagnosis_mean.loc[0] - dat__diagnosis_mean.loc[1] \n",
    "dat__diagnosis_mean"
   ]
  },
  {
   "cell_type": "code",
   "execution_count": 7,
   "id": "c78a4097-b898-4f23-8aa2-babaf218d532",
   "metadata": {},
   "outputs": [],
   "source": [
    "min_diff, max_diff = dat__diagnosis_mean.loc[\"diff\"].min(), dat__diagnosis_mean.loc[\"diff\"].max()"
   ]
  },
  {
   "cell_type": "code",
   "execution_count": 8,
   "id": "6430a94c-6df4-49df-b5c8-bd02247b83d0",
   "metadata": {},
   "outputs": [
    {
     "data": {
      "text/plain": [
       "'area_worst'"
      ]
     },
     "execution_count": 8,
     "metadata": {},
     "output_type": "execute_result"
    }
   ],
   "source": [
    "dat__diagnosis_mean.columns[dat__diagnosis_mean.loc[\"diff\"] == min_diff][0]"
   ]
  },
  {
   "cell_type": "code",
   "execution_count": 9,
   "id": "5b01a840-1b73-4c66-9aaf-4d07d9f1f972",
   "metadata": {},
   "outputs": [
    {
     "data": {
      "text/plain": [
       "'texture_se'"
      ]
     },
     "execution_count": 9,
     "metadata": {},
     "output_type": "execute_result"
    }
   ],
   "source": [
    "dat__diagnosis_mean.columns[dat__diagnosis_mean.loc[\"diff\"] == max_diff][0]"
   ]
  },
  {
   "cell_type": "code",
   "execution_count": 10,
   "id": "4c087cff-be43-4a52-94ce-6452081c32f7",
   "metadata": {},
   "outputs": [
    {
     "data": {
      "text/plain": [
       "diagnosis\n",
       "0.0      558.899440\n",
       "1.0     1422.286321\n",
       "diff    -863.386881\n",
       "Name: area_worst, dtype: float64"
      ]
     },
     "execution_count": 10,
     "metadata": {},
     "output_type": "execute_result"
    }
   ],
   "source": [
    "dat__diagnosis_mean[\"area_worst\"]"
   ]
  },
  {
   "cell_type": "code",
   "execution_count": 11,
   "id": "28d3dda7-17a0-40d1-9620-e0f152c868a3",
   "metadata": {},
   "outputs": [
    {
     "data": {
      "text/plain": [
       "diagnosis\n",
       "0.0    163.601424\n",
       "1.0    597.967743\n",
       "Name: area_worst, dtype: float64"
      ]
     },
     "execution_count": 11,
     "metadata": {},
     "output_type": "execute_result"
    }
   ],
   "source": [
    "dat__diagnosis_std[\"area_worst\"]"
   ]
  },
  {
   "cell_type": "code",
   "execution_count": 12,
   "id": "32f0868d-1672-417c-a571-0176df64628c",
   "metadata": {},
   "outputs": [
    {
     "data": {
      "text/plain": [
       "diagnosis\n",
       "0.0     1.220380\n",
       "1.0     1.210915\n",
       "diff    0.009465\n",
       "Name: texture_se, dtype: float64"
      ]
     },
     "execution_count": 12,
     "metadata": {},
     "output_type": "execute_result"
    }
   ],
   "source": [
    "dat__diagnosis_mean[\"texture_se\"]"
   ]
  },
  {
   "cell_type": "code",
   "execution_count": 13,
   "id": "ec8dd0f7-a8cc-428c-89ef-399da73c813f",
   "metadata": {},
   "outputs": [
    {
     "data": {
      "text/plain": [
       "diagnosis\n",
       "0.0    0.589180\n",
       "1.0    0.483178\n",
       "Name: texture_se, dtype: float64"
      ]
     },
     "execution_count": 13,
     "metadata": {},
     "output_type": "execute_result"
    }
   ],
   "source": [
    "dat__diagnosis_std[\"texture_se\"]"
   ]
  },
  {
   "cell_type": "code",
   "execution_count": 14,
   "id": "83bb4598-fdb9-4235-aea6-986890962db5",
   "metadata": {},
   "outputs": [
    {
     "data": {
      "image/png": "[encoded data removed]",
      "text/plain": [
       "<Figure size 432x288 with 1 Axes>"
      ]
     },
     "metadata": {
      "needs_background": "light"
     },
     "output_type": "display_data"
    }
   ],
   "source": [
    "plt_by_diagnosis(dat, \"area_worst\", \"Worst Area\")"
   ]
  },
  {
   "cell_type": "code",
   "execution_count": 15,
   "id": "596056f7-a203-4265-8155-489ce6b96f29",
   "metadata": {},
   "outputs": [
    {
     "data": {
      "image/png": "[encoded data removed]",
      "text/plain": [
       "<Figure size 432x288 with 1 Axes>"
      ]
     },
     "metadata": {
      "needs_background": "light"
     },
     "output_type": "display_data"
    }
   ],
   "source": [
    "plt_by_diagnosis(dat, \"texture_se\", \"Worst Area\")"
   ]
  },
  {
   "cell_type": "code",
   "execution_count": 16,
   "id": "804f4d0b-1c96-4ed8-aaec-354a11e09eb9",
   "metadata": {},
   "outputs": [],
   "source": [
    "dat_0 = dat.loc[dat[\"diagnosis\"] == 0]\n",
    "dat_1 = dat.loc[dat[\"diagnosis\"] == 1]"
   ]
  },
  {
   "cell_type": "code",
   "execution_count": 17,
   "id": "47ee4b7d-3f43-44a5-a359-9cba7981bf09",
   "metadata": {},
   "outputs": [
    {
     "name": "stdout",
     "output_type": "stream",
     "text": [
      "Fail to Reject Null Hypohesis\n"
     ]
    },
    {
     "data": {
      "text/plain": [
       "Ttest_indResult(statistic=nan, pvalue=nan)"
      ]
     },
     "execution_count": 17,
     "metadata": {},
     "output_type": "execute_result"
    }
   ],
   "source": [
    "two_sample_t_test(dat, \"diagnosis\", \"area_worst\", False)"
   ]
  },
  {
   "cell_type": "code",
   "execution_count": 18,
   "id": "25a0220f-3fd9-4a96-b9c9-4c89502ce548",
   "metadata": {},
   "outputs": [
    {
     "name": "stdout",
     "output_type": "stream",
     "text": [
      "Fail to Reject Null Hypohesis\n"
     ]
    },
    {
     "data": {
      "text/plain": [
       "Ttest_indResult(statistic=nan, pvalue=nan)"
      ]
     },
     "execution_count": 18,
     "metadata": {},
     "output_type": "execute_result"
    }
   ],
   "source": [
    "two_sample_t_test(dat, \"diagnosis\", \"texture_se\", True)"
   ]
  }
 ],
 "metadata": {
  "kernelspec": {
   "display_name": "hw07",
   "language": "python",
   "name": "hw07"
  },
  "language_info": {
   "codemirror_mode": {
    "name": "ipython",
    "version": 3
   },
   "file_extension": ".py",
   "mimetype": "text/x-python",
   "name": "python",
   "nbconvert_exporter": "python",
   "pygments_lexer": "ipython3",
   "version": "3.10.4"
  }
 },
 "nbformat": 4,
 "nbformat_minor": 5
}
