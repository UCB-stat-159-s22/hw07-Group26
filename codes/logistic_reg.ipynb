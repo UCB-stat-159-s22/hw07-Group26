{
 "cells": [
  {
   "cell_type": "markdown",
   "id": "4d6bd9ae-dc4f-441a-95bd-b2e71e9ce484",
   "metadata": {
    "tags": []
   },
   "source": [
    "# Logistic Regression\n"
   ]
  },
  {
   "cell_type": "markdown",
   "id": "dc49b993-e2fa-49a4-9205-73f0eac09e1f",
   "metadata": {},
   "source": [
    "## In this notebook, we will perform logistic regression and then evaluate the model's performance."
   ]
  },
  {
   "cell_type": "markdown",
   "id": "1406655c-4cc0-48e9-a1df-8fa27d70c6ff",
   "metadata": {},
   "source": [
    "### Import necessary packages"
   ]
  },
  {
   "cell_type": "code",
   "execution_count": 148,
   "id": "69ce42e2-82e2-476a-9f4a-906b2b0a5549",
   "metadata": {},
   "outputs": [],
   "source": [
    "import numpy as np\n",
    "import pandas as pd\n",
    "import matplotlib.pyplot as plt\n",
    "import scipy.stats as st\n",
    "from sklearn.linear_model import LogisticRegression\n",
    "from sklearn.metrics import accuracy_score, plot_confusion_matrix, plot_roc_curve, plot_precision_recall_curve"
   ]
  },
  {
   "cell_type": "markdown",
   "id": "c0a5de33-a45d-4896-bef0-cae42aeb839a",
   "metadata": {},
   "source": [
    "### Load the data"
   ]
  },
  {
   "cell_type": "code",
   "execution_count": 149,
   "id": "c6b06299-1532-42c0-b266-ccbd709b293b",
   "metadata": {},
   "outputs": [],
   "source": [
    "train_data = pd.read_csv('data/train.csv')\n",
    "val_data = pd.read_csv('data/val.csv')\n",
    "test_data = pd.read_csv('data/test.csv')"
   ]
  },
  {
   "cell_type": "markdown",
   "id": "087d5e8a-7f42-4aa2-be46-c3c5fd2ff063",
   "metadata": {},
   "source": [
    "### 95% Confidence interval for all model parameters"
   ]
  },
  {
   "cell_type": "code",
   "execution_count": 150,
   "id": "61966161-8607-4965-b620-c67aec306c2f",
   "metadata": {},
   "outputs": [
    {
     "name": "stdout",
     "output_type": "stream",
     "text": [
      "id : (16349960.551411724, 38908415.50040174)\n",
      "diagnosis : (0.3197064395276745, 0.416044855809113)\n",
      "radius_mean : (13.762062577148765, 14.485471101607708)\n",
      "texture_mean : (18.77658779332466, 19.65304951237482)\n",
      "perimeter_mean : (89.45223985280859, 94.43392595030022)\n",
      "area_mean : (619.8389307595313, 692.0470796031631)\n",
      "smoothness_mean : (0.09537352754442716, 0.09828434810324124)\n",
      "compactness_mean : (0.09945527489443516, 0.10997659039053893)\n",
      "concavity_mean : (0.0812042744841804, 0.09715813846918751)\n",
      "concave points_mean : (0.045398640980119156, 0.053378384926616604)\n",
      "symmetry_mean : (0.17829038051035162, 0.18386609617358618)\n",
      "fractal_dimension_mean : (0.062264416675564545, 0.06370895120008313)\n",
      "radius_se : (0.3803731906571351, 0.4355599699646266)\n",
      "texture_se : (1.1539724153230249, 1.2664814706873377)\n",
      "perimeter_se : (2.6800714074438456, 3.0781892143178124)\n",
      "area_se : (35.91303984470642, 44.593001606070786)\n",
      "smoothness_se : (0.006756038608940154, 0.0073911220128215025)\n",
      "compactness_se : (0.02400102474975319, 0.027743291312422976)\n",
      "concavity_se : (0.02920483636861081, 0.03571362269874669)\n",
      "concave points_se : (0.01128113190229211, 0.012544987268692345)\n",
      "symmetry_se : (0.01987684856573083, 0.0215958250093987)\n",
      "fractal_dimension_se : (0.003560991796821796, 0.0041263356643181)\n",
      "radius_worst : (15.757282255646667, 16.7321063453896)\n",
      "texture_worst : (24.827181178540872, 26.048932811096424)\n",
      "perimeter_worst : (103.69982169505782, 110.48188814950176)\n",
      "area_worst : (819.954105067038, 932.7085892334803)\n",
      "smoothness_worst : (0.1299474127822622, 0.13448927115556167)\n",
      "compactness_worst : (0.23754996051546556, 0.268662681971581)\n",
      "concavity_worst : (0.2485550215079508, 0.28983492667857763)\n",
      "concave points_worst : (0.1075923104492488, 0.12084448747821233)\n",
      "symmetry_worst : (0.2827052164838515, 0.29510566434516405)\n",
      "fractal_dimension_worst : (0.08198127402198797, 0.08545898504536954)\n"
     ]
    }
   ],
   "source": [
    "for i in np.arange(32):\n",
    "       print(train_data.columns[i],':',st.norm.interval(alpha = 0.95,loc = np.mean(train_data.iloc[:,i]),scale = st.sem(train_data.iloc[:,i])))"
   ]
  },
  {
   "cell_type": "markdown",
   "id": "e0de2f56-c27e-434d-ae81-aa6e50d5f59e",
   "metadata": {},
   "source": [
    "### Preparing for training,validation and testing"
   ]
  },
  {
   "cell_type": "code",
   "execution_count": 151,
   "id": "5f0bdc4a-bccc-474a-b015-794017216ceb",
   "metadata": {},
   "outputs": [],
   "source": [
    "X_train = train_data.drop(labels = ['diagnosis','id'],axis = 1) # drop labels and less predictive features for feature matrix\n",
    "y_train = train_data['diagnosis']\n",
    "X_val = val_data.drop(labels = ['diagnosis','id'],axis = 1)\n",
    "y_val = val_data['diagnosis']\n",
    "X_test = test_data.drop(labels = ['diagnosis','id'],axis = 1)\n",
    "y_test = test_data['diagnosis']"
   ]
  },
  {
   "cell_type": "markdown",
   "id": "7cf1b7e0-39d7-4cf3-9bc0-b3c1ccb7b469",
   "metadata": {},
   "source": [
    "### Built the model, train and validate"
   ]
  },
  {
   "cell_type": "code",
   "execution_count": 152,
   "id": "92ae4557-5256-44d9-b767-607fc450ff7a",
   "metadata": {},
   "outputs": [
    {
     "data": {
      "text/plain": [
       "0.9278350515463918"
      ]
     },
     "execution_count": 152,
     "metadata": {},
     "output_type": "execute_result"
    }
   ],
   "source": [
    "model = LogisticRegression(max_iter = 5000)\n",
    "model.fit(X_train,y_train)\n",
    "y_preds = model.predict(X_val)\n",
    "accuracy_score(y_preds,y_val)"
   ]
  },
  {
   "cell_type": "markdown",
   "id": "51787d48-9872-408c-aedf-3cf572263e46",
   "metadata": {},
   "source": [
    "### Test the model"
   ]
  },
  {
   "cell_type": "code",
   "execution_count": 153,
   "id": "1da93edb-2836-4605-b7d6-de1bb7c12af8",
   "metadata": {},
   "outputs": [
    {
     "data": {
      "text/plain": [
       "0.9651162790697675"
      ]
     },
     "execution_count": 153,
     "metadata": {},
     "output_type": "execute_result"
    }
   ],
   "source": [
    "y_preds_test = model.predict(X_test)\n",
    "accuracy_score(y_preds_test,y_test)"
   ]
  },
  {
   "cell_type": "markdown",
   "id": "7c6187be-e3f4-4cbc-b86d-f341b5e95bb5",
   "metadata": {},
   "source": [
    "### Creating confusion matrix for the test data"
   ]
  },
  {
   "cell_type": "code",
   "execution_count": 154,
   "id": "eb45c6d2-69db-4dee-8284-b64ab48df65a",
   "metadata": {},
   "outputs": [
    {
     "name": "stderr",
     "output_type": "stream",
     "text": [
      "/srv/conda/envs/notebook/lib/python3.9/site-packages/sklearn/utils/deprecation.py:87: FutureWarning: Function plot_confusion_matrix is deprecated; Function `plot_confusion_matrix` is deprecated in 1.0 and will be removed in 1.2. Use one of the class methods: ConfusionMatrixDisplay.from_predictions or ConfusionMatrixDisplay.from_estimator.\n",
      "  warnings.warn(msg, category=FutureWarning)\n"
     ]
    },
    {
     "data": {
      "image/png": "[encoded data removed]",
      "text/plain": [
       "<Figure size 432x288 with 2 Axes>"
      ]
     },
     "metadata": {
      "needs_background": "light"
     },
     "output_type": "display_data"
    }
   ],
   "source": [
    "confusion_matrix = plot_confusion_matrix(model,X_test,y_test);\n",
    "plt.savefig('figures/confusion_matrix.png')"
   ]
  },
  {
   "cell_type": "markdown",
   "id": "918f4308-6954-45ac-97f8-d2fb0dcd136a",
   "metadata": {},
   "source": [
    "### Create the ROC Curve and Saving it"
   ]
  },
  {
   "cell_type": "code",
   "execution_count": 155,
   "id": "db7d92a7-f71d-4fe6-a49c-4ad914e9c0dd",
   "metadata": {},
   "outputs": [
    {
     "name": "stderr",
     "output_type": "stream",
     "text": [
      "/srv/conda/envs/notebook/lib/python3.9/site-packages/sklearn/utils/deprecation.py:87: FutureWarning: Function plot_roc_curve is deprecated; Function :func:`plot_roc_curve` is deprecated in 1.0 and will be removed in 1.2. Use one of the class methods: :meth:`sklearn.metric.RocCurveDisplay.from_predictions` or :meth:`sklearn.metric.RocCurveDisplay.from_estimator`.\n",
      "  warnings.warn(msg, category=FutureWarning)\n"
     ]
    },
    {
     "data": {
      "image/png": "[encoded data removed]",
      "text/plain": [
       "<Figure size 432x288 with 1 Axes>"
      ]
     },
     "metadata": {
      "needs_background": "light"
     },
     "output_type": "display_data"
    }
   ],
   "source": [
    "plot_roc_curve(model,X_test,y_test);\n",
    "plt.savefig('figures/roc_curve');"
   ]
  },
  {
   "cell_type": "markdown",
   "id": "274839ec-50b9-469a-a99d-62a6758c8cac",
   "metadata": {},
   "source": [
    "### Create Precision Recall Curve and Saving it"
   ]
  },
  {
   "cell_type": "code",
   "execution_count": 156,
   "id": "8964f4b2-43af-4621-9b4e-8abbef463f98",
   "metadata": {},
   "outputs": [
    {
     "name": "stderr",
     "output_type": "stream",
     "text": [
      "/srv/conda/envs/notebook/lib/python3.9/site-packages/sklearn/utils/deprecation.py:87: FutureWarning: Function plot_precision_recall_curve is deprecated; Function `plot_precision_recall_curve` is deprecated in 1.0 and will be removed in 1.2. Use one of the class methods: PrecisionRecallDisplay.from_predictions or PrecisionRecallDisplay.from_estimator.\n",
      "  warnings.warn(msg, category=FutureWarning)\n"
     ]
    },
    {
     "data": {
      "image/png": "[encoded data removed]",
      "text/plain": [
       "<Figure size 432x288 with 1 Axes>"
      ]
     },
     "metadata": {
      "needs_background": "light"
     },
     "output_type": "display_data"
    }
   ],
   "source": [
    "plot_precision_recall_curve(model,X_test,y_test);\n",
    "plt.savefig('figures/precision_recall_curve');"
   ]
  }
 ],
 "metadata": {
  "kernelspec": {
   "display_name": "Python 3 (ipykernel)",
   "language": "python",
   "name": "python3"
  },
  "language_info": {
   "codemirror_mode": {
    "name": "ipython",
    "version": 3
   },
   "file_extension": ".py",
   "mimetype": "text/x-python",
   "name": "python",
   "nbconvert_exporter": "python",
   "pygments_lexer": "ipython3",
   "version": "3.9.9"
  }
 },
 "nbformat": 4,
 "nbformat_minor": 5
}
