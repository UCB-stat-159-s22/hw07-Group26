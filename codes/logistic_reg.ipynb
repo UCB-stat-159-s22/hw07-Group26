{
 "cells": [
  {
   "cell_type": "markdown",
   "id": "4d6bd9ae-dc4f-441a-95bd-b2e71e9ce484",
   "metadata": {
    "tags": []
   },
   "source": [
    "# Logistic Regression\n"
   ]
  },
  {
   "cell_type": "markdown",
   "id": "dc49b993-e2fa-49a4-9205-73f0eac09e1f",
   "metadata": {},
   "source": [
    "## In this notebook, we will perform logistic regression and then evaluate the model's performance."
   ]
  },
  {
   "cell_type": "markdown",
   "id": "3e27005c-e241-47fa-94e3-cd0329aa9cfd",
   "metadata": {},
   "source": [
    "### Logistic Regression is a method used for classification of data. It estimates posterior probabilities (the probability that the data point belongs to a class) and based on that it classifies the data point. "
   ]
  },
  {
   "cell_type": "markdown",
   "id": "1406655c-4cc0-48e9-a1df-8fa27d70c6ff",
   "metadata": {},
   "source": [
    "### Import necessary packages"
   ]
  },
  {
   "cell_type": "code",
   "execution_count": 1,
   "id": "69ce42e2-82e2-476a-9f4a-906b2b0a5549",
   "metadata": {},
   "outputs": [],
   "source": [
    "import numpy as np\n",
    "import pandas as pd\n",
    "import matplotlib.pyplot as plt\n",
    "from sklearn.linear_model import LogisticRegression\n",
    "from sklearn.metrics import accuracy_score,precision_score,recall_score,f1_score,ConfusionMatrixDisplay, RocCurveDisplay,PrecisionRecallDisplay"
   ]
  },
  {
   "cell_type": "markdown",
   "id": "c0a5de33-a45d-4896-bef0-cae42aeb839a",
   "metadata": {},
   "source": [
    "### Load the data"
   ]
  },
  {
   "cell_type": "code",
   "execution_count": 2,
   "id": "c6b06299-1532-42c0-b266-ccbd709b293b",
   "metadata": {},
   "outputs": [],
   "source": [
    "train_data = pd.read_csv('../data/train.csv')\n",
    "val_data = pd.read_csv('../data/val.csv')\n",
    "test_data = pd.read_csv('../data/test.csv')\n"
   ]
  },
  {
   "cell_type": "markdown",
   "id": "e0de2f56-c27e-434d-ae81-aa6e50d5f59e",
   "metadata": {},
   "source": [
    "### Preparing for training and validation"
   ]
  },
  {
   "cell_type": "code",
   "execution_count": 3,
   "id": "5f0bdc4a-bccc-474a-b015-794017216ceb",
   "metadata": {},
   "outputs": [],
   "source": [
    "def preprocessing(train_data,val_data):\n",
    "    '''\n",
    "    Does some preprocessing of the data before performing logistic regression.\n",
    "    ---\n",
    "    Arguments: \n",
    "    train_data (DataFrame): training data \n",
    "    val_data (DataFrame): validation data\n",
    "    \n",
    "    Returns: \n",
    "    X_train (DataFrame): preprocessed training feature matrix\n",
    "    X_val (DataFrame): preprocessed validation feature matrix\n",
    "    y_train (Series): training labels\n",
    "    y_val (Series): validation labels\n",
    "    \n",
    "    '''\n",
    "    X_train = train_data.drop(labels = ['diagnosis','id'],axis = 1) # drop labels and less predictive features for feature matrix\n",
    "    y_train = train_data['diagnosis']\n",
    "    X_val = val_data.drop(labels = ['diagnosis','id'],axis = 1)\n",
    "    y_val = val_data['diagnosis']\n",
    "    return X_train,X_val,y_train,y_val\n",
    "\n",
    "X_train,X_val,y_train,y_val = preprocessing(train_data, val_data)"
   ]
  },
  {
   "cell_type": "markdown",
   "id": "7cf1b7e0-39d7-4cf3-9bc0-b3c1ccb7b469",
   "metadata": {},
   "source": [
    "### Built the model and training"
   ]
  },
  {
   "cell_type": "code",
   "execution_count": 4,
   "id": "92ae4557-5256-44d9-b767-607fc450ff7a",
   "metadata": {},
   "outputs": [],
   "source": [
    "model = LogisticRegression(max_iter = 5000)\n",
    "\n",
    "def logistic_regression(X,y):\n",
    "    '''\n",
    "    Fits a logistic regression model to a feature matrix and labels.\n",
    "    ---\n",
    "    Arguments: \n",
    "    X (DataFrame): feature matrix\n",
    "    y (Series): feature labels\n",
    "    \n",
    "    Returns: \n",
    "    fitted logistic regression model to X and y\n",
    "    \n",
    "    '''\n",
    "    return model.fit(X,y)\n",
    "\n",
    "def logistic_regression_predict(X):\n",
    "    '''\n",
    "    Outputs logistic regression labels given a feature matrix X.\n",
    "    ---\n",
    "    Arguments: \n",
    "    X (DataFrame): feature matrix\n",
    "    \n",
    "    Returns:\n",
    "    y_preds (array): predicted labels for the feature matrix\n",
    "    \n",
    "    '''\n",
    "    return model.predict(X)\n",
    "\n",
    "# Built the model\n",
    "logistic_regression(X_train,y_train)\n",
    "\n",
    "# get the predictions\n",
    "y_preds = logistic_regression_predict(X_val)"
   ]
  },
  {
   "cell_type": "markdown",
   "id": "03c35608-d471-4553-b81f-f7d183113647",
   "metadata": {},
   "source": [
    "### Function for all the measured metrics"
   ]
  },
  {
   "cell_type": "code",
   "execution_count": 5,
   "id": "27429395-2bb1-4cd4-9b8c-285258ae0dda",
   "metadata": {},
   "outputs": [
    {
     "name": "stdout",
     "output_type": "stream",
     "text": [
      "Accuracy is: 0.9278350515463918\n",
      "Precision is: 0.8857142857142857\n",
      "Recall is: 0.9117647058823529\n",
      "F1 score is: 0.8985507246376812\n"
     ]
    }
   ],
   "source": [
    "def get_metrics(y_preds,y_val):\n",
    "    '''\n",
    "    Gets all the measured metrics including accuracy, precision, recall and F1 score.\n",
    "    ---\n",
    "    Arguments:\n",
    "    y_preds (array): predictions labels\n",
    "    y_vals (Series): validation labels\n",
    "    \n",
    "    Returns: \n",
    "    Accuracy (float):Accuracy of the classifier\n",
    "    Precision (float): Precision of the classifier\n",
    "    Recall (float): Recall of the classifier\n",
    "    F1 score (float): F1 score of the classifier\n",
    "\n",
    "    '''\n",
    "    print('Accuracy is:', accuracy_score(y_preds,y_val))\n",
    "    print('Precision is:', precision_score(y_preds,y_val))\n",
    "    print('Recall is:', recall_score(y_preds,y_val))\n",
    "    print('F1 score is:' , f1_score(y_preds,y_val))\n",
    "\n",
    "# get the necessary metrics\n",
    "get_metrics(y_preds,y_val)"
   ]
  },
  {
   "cell_type": "markdown",
   "id": "7c6187be-e3f4-4cbc-b86d-f341b5e95bb5",
   "metadata": {},
   "source": [
    "### Creating confusion matrix and Saving it"
   ]
  },
  {
   "cell_type": "code",
   "execution_count": 6,
   "id": "eb45c6d2-69db-4dee-8284-b64ab48df65a",
   "metadata": {},
   "outputs": [
    {
     "data": {
      "image/png": "[encoded data removed]",
      "text/plain": [
       "<Figure size 432x288 with 2 Axes>"
      ]
     },
     "metadata": {
      "needs_background": "light"
     },
     "output_type": "display_data"
    }
   ],
   "source": [
    "ConfusionMatrixDisplay.from_predictions(y_val,y_preds);\n",
    "plt.savefig('../figures/confusion_matrix_logistic.png')"
   ]
  },
  {
   "cell_type": "markdown",
   "id": "918f4308-6954-45ac-97f8-d2fb0dcd136a",
   "metadata": {},
   "source": [
    "### Create the ROC Curve and Saving it"
   ]
  },
  {
   "cell_type": "code",
   "execution_count": 9,
   "id": "db7d92a7-f71d-4fe6-a49c-4ad914e9c0dd",
   "metadata": {},
   "outputs": [
    {
     "data": {
      "image/png": "[encoded data removed]",
      "text/plain": [
       "<Figure size 432x288 with 1 Axes>"
      ]
     },
     "metadata": {
      "needs_background": "light"
     },
     "output_type": "display_data"
    }
   ],
   "source": [
    "RocCurveDisplay.from_predictions(y_preds,y_val);\n",
    "plt.savefig('../figures/roc_curve_logistic');"
   ]
  },
  {
   "cell_type": "markdown",
   "id": "274839ec-50b9-469a-a99d-62a6758c8cac",
   "metadata": {},
   "source": [
    "### Create Precision Recall Curve and Saving it"
   ]
  },
  {
   "cell_type": "code",
   "execution_count": 10,
   "id": "8964f4b2-43af-4621-9b4e-8abbef463f98",
   "metadata": {},
   "outputs": [
    {
     "data": {
      "image/png": "[encoded data removed]",
      "text/plain": [
       "<Figure size 432x288 with 1 Axes>"
      ]
     },
     "metadata": {
      "needs_background": "light"
     },
     "output_type": "display_data"
    }
   ],
   "source": [
    "PrecisionRecallDisplay.from_predictions(y_preds,y_val);\n",
    "plt.savefig('../figures/precision_recall_curve_logistic');"
   ]
  },
  {
   "cell_type": "code",
   "execution_count": null,
   "id": "4163c306-b8f2-4937-a775-7e82b8b26c3c",
   "metadata": {},
   "outputs": [],
   "source": []
  }
 ],
 "metadata": {
  "kernelspec": {
   "display_name": "hw07",
   "language": "python",
   "name": "hw07"
  },
  "language_info": {
   "codemirror_mode": {
    "name": "ipython",
    "version": 3
   },
   "file_extension": ".py",
   "mimetype": "text/x-python",
   "name": "python",
   "nbconvert_exporter": "python",
   "pygments_lexer": "ipython3",
   "version": "3.10.4"
  }
 },
 "nbformat": 4,
 "nbformat_minor": 5
}
