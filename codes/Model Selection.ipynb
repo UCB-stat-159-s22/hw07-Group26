{
 "cells": [
  {
   "cell_type": "code",
   "execution_count": null,
   "id": "9e03b5c5-d1cf-4d31-8c26-806cdfe08b65",
   "metadata": {},
   "outputs": [],
   "source": []
  }
 ],
 "metadata": {
  "kernelspec": {
   "display_name": "hw07",
   "language": "python",
   "name": "hw07"
  },
  "language_info": {
   "codemirror_mode": {
    "name": "ipython",
    "version": 3
   },
   "file_extension": ".py",
   "mimetype": "text/x-python",
   "name": "python",
   "nbconvert_exporter": "python",
   "pygments_lexer": "ipython3",
   "version": "3.9.9"
  }
 },
 "nbformat": 4,
 "nbformat_minor": 5
}
