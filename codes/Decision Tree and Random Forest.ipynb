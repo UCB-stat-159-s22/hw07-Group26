{
 "cells": [
  {
   "cell_type": "markdown",
   "id": "b353221f-a66a-485b-8b92-c8d7b5714292",
   "metadata": {},
   "source": [
    "# Decision Tree and Random Forest\n",
    "In this notebook, we will perform decision tree and random forest and then evaluate the model's performance."
   ]
  },
  {
   "cell_type": "code",
   "execution_count": 39,
   "id": "bb47ffca-661c-48fe-9478-4f6d473418bc",
   "metadata": {},
   "outputs": [],
   "source": [
    "import numpy as np\n",
    "import pandas as pd\n",
    "import matplotlib.pyplot as plt\n",
    "from sklearn.tree import DecisionTreeClassifier\n",
    "from sklearn.ensemble import RandomForestClassifier\n",
    "import seaborn as sns\n",
    "from sklearn.metrics import confusion_matrix, ConfusionMatrixDisplay, roc_curve, RocCurveDisplay, auc, precision_recall_curve, PrecisionRecallDisplay, f1_score\n"
   ]
  },
  {
   "cell_type": "markdown",
   "id": "42453dfb-6ef1-487f-a4dc-6c370ea6472e",
   "metadata": {},
   "source": [
    "## Load the data"
   ]
  },
  {
   "cell_type": "code",
   "execution_count": 40,
   "id": "73f380ce-69e3-426e-87cc-a271d1f273fa",
   "metadata": {},
   "outputs": [],
   "source": [
    "train_data = pd.read_csv('../data/train.csv')\n",
    "val_data = pd.read_csv('../data/val.csv')\n",
    "test_data = pd.read_csv('../data/test.csv')"
   ]
  },
  {
   "cell_type": "code",
   "execution_count": 41,
   "id": "eb2ff4b0-8caa-4bb6-84fb-2c4fc599cfc9",
   "metadata": {},
   "outputs": [],
   "source": [
    "X_train = train_data.drop(labels = ['diagnosis','id'],axis = 1) # drop labels and less predictive features for feature matrix\n",
    "y_train = train_data['diagnosis']\n",
    "X_val = val_data.drop(labels = ['diagnosis','id'],axis = 1)\n",
    "y_val = val_data['diagnosis']\n",
    "X_test = test_data.drop(labels = ['diagnosis','id'],axis = 1)\n",
    "y_test = test_data['diagnosis']"
   ]
  },
  {
   "cell_type": "markdown",
   "id": "b72a4793-23bb-455d-a6f8-3c097fa407df",
   "metadata": {},
   "source": [
    "## Decision Tree"
   ]
  },
  {
   "cell_type": "markdown",
   "id": "518d9eba-d882-4d7d-b93b-e2d01fecd312",
   "metadata": {},
   "source": [
    "### Set Model"
   ]
  },
  {
   "cell_type": "code",
   "execution_count": 42,
   "id": "ecfb35d3-6373-4802-9047-b5ededa32ae5",
   "metadata": {},
   "outputs": [],
   "source": [
    "# function to fit Decision Tree model\n",
    "def decision_tree(X_train, y_train, seed_value = 10):\n",
    "    # set random seed\n",
    "    np.random.seed(seed_value)\n",
    "    # set the model\n",
    "    model = DecisionTreeClassifier()\n",
    "    model.fit(X_train, y_train)\n",
    "    # predict the values for the training and validation sets\n",
    "    y_pred_train = model.predict(X_train)\n",
    "    y_pred_val = model.predict(X_val)\n",
    "    return model, y_pred_train, y_pred_val"
   ]
  },
  {
   "cell_type": "code",
   "execution_count": 43,
   "id": "71f795c0-fcca-4986-8f65-86b7543f9e71",
   "metadata": {},
   "outputs": [],
   "source": [
    "# set the model and get the prediction\n",
    "model_dt, y_pred_train_dt, y_pred_val_dt = decision_tree(X_train, y_train)"
   ]
  },
  {
   "cell_type": "markdown",
   "id": "00fa4bae-0621-4c58-8b20-b82556a1ebdb",
   "metadata": {},
   "source": [
    "### Metrics"
   ]
  },
  {
   "cell_type": "markdown",
   "id": "87627a47-90ea-47d2-a99b-6855db1076b0",
   "metadata": {},
   "source": [
    "#### Accuracy"
   ]
  },
  {
   "cell_type": "code",
   "execution_count": 44,
   "id": "542efd8c-7ece-42d0-a4a2-69fa5a6e20ef",
   "metadata": {},
   "outputs": [
    {
     "name": "stdout",
     "output_type": "stream",
     "text": [
      "Decision Tree Model Accuracy:  0.9381443298969072\n"
     ]
    }
   ],
   "source": [
    "# accuracy of decision tree model\n",
    "dt_score = model_dt.score(X_val, y_val)\n",
    "print(\"Decision Tree Model Accuracy: \", dt_score)"
   ]
  },
  {
   "cell_type": "markdown",
   "id": "a107a5f5-6232-4ee3-894c-5bf21d5b47af",
   "metadata": {},
   "source": [
    "#### Confusion Matrix"
   ]
  },
  {
   "cell_type": "code",
   "execution_count": 45,
   "id": "233815db-d35a-4104-967b-4c042dc115cc",
   "metadata": {},
   "outputs": [
    {
     "data": {
      "image/png": "[encoded data removed]",
      "text/plain": [
       "<Figure size 432x288 with 2 Axes>"
      ]
     },
     "metadata": {
      "needs_background": "light"
     },
     "output_type": "display_data"
    },
    {
     "data": {
      "text/plain": [
       "<Figure size 432x288 with 0 Axes>"
      ]
     },
     "metadata": {},
     "output_type": "display_data"
    }
   ],
   "source": [
    "#Decision Tree Confusion Matrix\n",
    "\n",
    "cf_matrix_dt = confusion_matrix(y_val, y_pred_val_dt)\n",
    "\n",
    "ax2 = sns.heatmap(cf_matrix_dt/np.sum(cf_matrix_dt), annot=True, \n",
    "            fmt='.2%', cmap='Blues')\n",
    "\n",
    "ax2.set_title('Decision Tree Confusion Matrix by Percentage');\n",
    "ax2.set_xlabel('\\nPredicted Values')\n",
    "ax2.set_ylabel('Actual Values ');\n",
    "\n",
    "ax2.xaxis.set_ticklabels(['False','True'])\n",
    "ax2.yaxis.set_ticklabels(['False','True'])\n",
    "\n",
    "plt.show()\n",
    "plt.savefig('../figures/confusion_matrix_dt.png')"
   ]
  },
  {
   "cell_type": "markdown",
   "id": "4d015ddc-27d8-421f-91c3-4dfdc13083e2",
   "metadata": {},
   "source": [
    "#### ROC Curve"
   ]
  },
  {
   "cell_type": "code",
   "execution_count": 46,
   "id": "716ed6d7-6020-489c-a881-47ea6bdef614",
   "metadata": {},
   "outputs": [
    {
     "data": {
      "image/png": "[encoded data removed]",
      "text/plain": [
       "<Figure size 432x288 with 1 Axes>"
      ]
     },
     "metadata": {
      "needs_background": "light"
     },
     "output_type": "display_data"
    },
    {
     "data": {
      "text/plain": [
       "<Figure size 432x288 with 0 Axes>"
      ]
     },
     "metadata": {},
     "output_type": "display_data"
    }
   ],
   "source": [
    "fpr, tpr, thresholds = roc_curve(y_val, y_pred_val_dt)\n",
    "roc_auc = auc(fpr, tpr)\n",
    "display = RocCurveDisplay(fpr=fpr, tpr=tpr, roc_auc=roc_auc)\n",
    "display.plot()\n",
    "plt.title(\"ROC Curve for Decision Tree Model\")\n",
    "plt.show()\n",
    "plt.savefig('../figures/roc_curve_dt.png');"
   ]
  },
  {
   "cell_type": "markdown",
   "id": "8af33bd1-99ce-4705-a4ab-f29cdc4b5624",
   "metadata": {},
   "source": [
    "#### Precision Recall Curve "
   ]
  },
  {
   "cell_type": "code",
   "execution_count": 47,
   "id": "81a3397b-1ea3-4ef4-907b-56cb3bd426d5",
   "metadata": {},
   "outputs": [
    {
     "data": {
      "image/png": "[encoded data removed]",
      "text/plain": [
       "<Figure size 432x288 with 1 Axes>"
      ]
     },
     "metadata": {
      "needs_background": "light"
     },
     "output_type": "display_data"
    },
    {
     "data": {
      "text/plain": [
       "<Figure size 432x288 with 0 Axes>"
      ]
     },
     "metadata": {},
     "output_type": "display_data"
    }
   ],
   "source": [
    "precision, recall, _ = precision_recall_curve(y_val, y_pred_val_dt)\n",
    "disp = PrecisionRecallDisplay(precision=precision, recall=recall)\n",
    "disp.plot()\n",
    "plt.title(\"Precision Recall Curve for Decision Tree Model\")\n",
    "plt.show()\n",
    "plt.savefig('../figures/precision_recall_curve_dt.png');"
   ]
  },
  {
   "cell_type": "markdown",
   "id": "eeb26d9b-f799-43c0-bc91-862ec317603f",
   "metadata": {},
   "source": [
    "#### F1 Score"
   ]
  },
  {
   "cell_type": "code",
   "execution_count": 48,
   "id": "1e033245-b97c-486a-88ae-b5ea50cac9f6",
   "metadata": {},
   "outputs": [
    {
     "data": {
      "text/plain": [
       "0.9142857142857143"
      ]
     },
     "execution_count": 48,
     "metadata": {},
     "output_type": "execute_result"
    }
   ],
   "source": [
    "f1_score_dt = f1_score(y_val, y_pred_val_dt)\n",
    "f1_score_dt"
   ]
  },
  {
   "cell_type": "markdown",
   "id": "4d5f68d2-4c4b-4eba-8a2b-35eb79ef5a2c",
   "metadata": {},
   "source": [
    "## Random Forest"
   ]
  },
  {
   "cell_type": "markdown",
   "id": "4bd132ff-3456-4417-99e8-1f2a00c3f3a2",
   "metadata": {},
   "source": [
    "### Set Model"
   ]
  },
  {
   "cell_type": "code",
   "execution_count": 10,
   "id": "92a634e3-c264-4d49-a756-20351d45027e",
   "metadata": {},
   "outputs": [],
   "source": [
    "# function to fit Decision Tree model\n",
    "def random_forest(X_train, y_train, max_feature, seed_value = 10):\n",
    "    # set random seed\n",
    "    np.random.seed(seed_value)\n",
    "    # set the model\n",
    "    model = RandomForestClassifier(max_features = max_feature)\n",
    "    model.fit(X_train, y_train)\n",
    "    # predict the values for the training and validation sets\n",
    "    y_pred_train = model.predict(X_train)\n",
    "    y_pred_val = model.predict(X_val)\n",
    "    return model, y_pred_train, y_pred_val"
   ]
  },
  {
   "cell_type": "code",
   "execution_count": 36,
   "id": "37688e9c-9f03-4149-88dc-ffbcf800cc65",
   "metadata": {},
   "outputs": [],
   "source": [
    "# set the model and get the prediction\n",
    "model_rf, y_pred_train_rf, y_pred_val_rf = random_forest(X_train, y_train, 5)"
   ]
  },
  {
   "cell_type": "markdown",
   "id": "39e18f1e-200b-4c8f-b459-b4e4cdc947d7",
   "metadata": {},
   "source": [
    "### Metrics"
   ]
  },
  {
   "cell_type": "markdown",
   "id": "170e0995-ec43-43ba-bf63-c0ca4634c122",
   "metadata": {},
   "source": [
    "#### Accuracy"
   ]
  },
  {
   "cell_type": "code",
   "execution_count": 37,
   "id": "e0311284-135e-4f3c-9e17-96e340280151",
   "metadata": {},
   "outputs": [
    {
     "name": "stdout",
     "output_type": "stream",
     "text": [
      "Random Forest Model Accuracy:  0.9587628865979382\n"
     ]
    }
   ],
   "source": [
    "# accuracy of decision tree model\n",
    "rf_score = model_rf.score(X_val, y_val)\n",
    "print(\"Random Forest Model Accuracy: \", rf_score)"
   ]
  },
  {
   "cell_type": "markdown",
   "id": "cd522be3-bd42-4f46-8531-32feb78cd75c",
   "metadata": {},
   "source": [
    "#### Confusion Matrix"
   ]
  },
  {
   "cell_type": "code",
   "execution_count": 13,
   "id": "d642e07d-ce1b-4dd2-981f-8535412041c8",
   "metadata": {},
   "outputs": [
    {
     "data": {
      "image/png": "[encoded data removed]",
      "text/plain": [
       "<Figure size 432x288 with 2 Axes>"
      ]
     },
     "metadata": {
      "needs_background": "light"
     },
     "output_type": "display_data"
    },
    {
     "data": {
      "text/plain": [
       "<Figure size 432x288 with 0 Axes>"
      ]
     },
     "metadata": {},
     "output_type": "display_data"
    }
   ],
   "source": [
    "#Decision Tree Confusion Matrix\n",
    "\n",
    "cf_matrix_rf = confusion_matrix(y_val, y_pred_val_rf)\n",
    "\n",
    "ax2 = sns.heatmap(cf_matrix_rf/np.sum(cf_matrix_rf), annot=True, \n",
    "            fmt='.2%', cmap='Blues')\n",
    "\n",
    "ax2.set_title('Random Forest Confusion Matrix by Percentage');\n",
    "ax2.set_xlabel('\\nPredicted Values')\n",
    "ax2.set_ylabel('Actual Values ');\n",
    "\n",
    "ax2.xaxis.set_ticklabels(['False','True'])\n",
    "ax2.yaxis.set_ticklabels(['False','True'])\n",
    "\n",
    "plt.show()\n",
    "plt.savefig('../figures/confusion_matrix_rf.png')"
   ]
  },
  {
   "cell_type": "markdown",
   "id": "5ee0f823-102c-4561-aa7f-022d4f837ab1",
   "metadata": {},
   "source": [
    "#### ROC Curve"
   ]
  },
  {
   "cell_type": "code",
   "execution_count": 14,
   "id": "87a05f1d-2268-4d2e-88b0-0f2ea7ca743d",
   "metadata": {},
   "outputs": [
    {
     "data": {
      "image/png": "[encoded data removed]",
      "text/plain": [
       "<Figure size 432x288 with 1 Axes>"
      ]
     },
     "metadata": {
      "needs_background": "light"
     },
     "output_type": "display_data"
    },
    {
     "data": {
      "text/plain": [
       "<Figure size 432x288 with 0 Axes>"
      ]
     },
     "metadata": {},
     "output_type": "display_data"
    }
   ],
   "source": [
    "fpr, tpr, thresholds = roc_curve(y_val, y_pred_val_rf)\n",
    "roc_auc = auc(fpr, tpr)\n",
    "display = RocCurveDisplay(fpr=fpr, tpr=tpr, roc_auc=roc_auc)\n",
    "display.plot()\n",
    "plt.title(\"ROC Curve for Decision Tree Model\")\n",
    "plt.show()\n",
    "plt.savefig('../figures/roc_curve_rf.png');"
   ]
  },
  {
   "cell_type": "markdown",
   "id": "cb358d3d-ad00-43fe-8906-3dc519102c4f",
   "metadata": {},
   "source": [
    "#### Precision Recall Curve "
   ]
  },
  {
   "cell_type": "code",
   "execution_count": 15,
   "id": "66a4507d-8e74-43a5-8de9-fa9c91f3e31e",
   "metadata": {},
   "outputs": [
    {
     "data": {
      "image/png": "[encoded data removed]",
      "text/plain": [
       "<Figure size 432x288 with 1 Axes>"
      ]
     },
     "metadata": {
      "needs_background": "light"
     },
     "output_type": "display_data"
    },
    {
     "data": {
      "text/plain": [
       "<Figure size 432x288 with 0 Axes>"
      ]
     },
     "metadata": {},
     "output_type": "display_data"
    }
   ],
   "source": [
    "precision, recall, _ = precision_recall_curve(y_val, y_pred_val_rf)\n",
    "disp = PrecisionRecallDisplay(precision=precision, recall=recall)\n",
    "disp.plot()\n",
    "plt.title(\"Precision Recall Curve for Decision Tree Model\")\n",
    "plt.show()\n",
    "plt.savefig('../figures/precision_recall_curve_rf.png');"
   ]
  },
  {
   "cell_type": "markdown",
   "id": "aefe0627-1f10-4659-9193-6e20ac1c6f33",
   "metadata": {},
   "source": [
    "#### F1 Score"
   ]
  },
  {
   "cell_type": "code",
   "execution_count": 49,
   "id": "7c79afab-849f-46e0-95d6-e9853153dee0",
   "metadata": {},
   "outputs": [
    {
     "data": {
      "text/plain": [
       "0.9411764705882354"
      ]
     },
     "execution_count": 49,
     "metadata": {},
     "output_type": "execute_result"
    }
   ],
   "source": [
    "f1_score_rf = f1_score(y_val, y_pred_val_rf)\n",
    "f1_score_rf"
   ]
  }
 ],
 "metadata": {
  "kernelspec": {
   "display_name": "hw07",
   "language": "python",
   "name": "hw07"
  },
  "language_info": {
   "codemirror_mode": {
    "name": "ipython",
    "version": 3
   },
   "file_extension": ".py",
   "mimetype": "text/x-python",
   "name": "python",
   "nbconvert_exporter": "python",
   "pygments_lexer": "ipython3",
   "version": "3.9.9"
  }
 },
 "nbformat": 4,
 "nbformat_minor": 5
}
